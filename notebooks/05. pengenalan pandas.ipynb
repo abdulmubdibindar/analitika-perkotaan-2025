{
  "cells": [
    {
      "cell_type": "markdown",
      "id": "d47952cb",
      "metadata": {
        "id": "d47952cb"
      },
      "source": [
        "# **Modul 4: Pengolahan Data Terstruktur Menggunakan `pandas`**\n",
        "\n",
        "Isikan identitas Anda di baris berikut untuk pengumpulan modul ini.\n",
        "\n",
        "* Nama  : `Nama Anda`\n",
        "* NIM   : `NIM Anda`\n",
        "* Kelas : `Kelas Anda`\n",
        "\n",
        "------------------------------------------------"
      ]
    },
    {
      "cell_type": "markdown",
      "id": "41f5c4f0",
      "metadata": {
        "id": "41f5c4f0"
      },
      "source": [
        "## **4.1 Pendahuluan**\n",
        "\n",
        "Dalam Python, pengolahan data terstruktur dilakukan dengan *library* atau paket bernama `pandas`. Paket ini adalah paket yang khusus dibuat untuk mengelola data mentah yang prosesnya disebut *data wrangling* (dibaca 'rengling')"
      ]
    },
    {
      "cell_type": "markdown",
      "id": "eb4fe32e",
      "metadata": {
        "id": "eb4fe32e"
      },
      "source": [
        "Dalam modul ini, capaian pembelajaran kita antara lain:\n",
        "\n",
        "1. Mengenal data terstruktur dan pengoperasiannya dalam Python, khususnya dengan paket `pandas`\n",
        "2. Mengelola data terstruktur seperti menetapkan indeks, mengakses indeks, mengurutkan *(sorting)* dan menyaring *(filtering)* data\n",
        "3. Menghasilkan statistik deskriptif sederhana untuk data terstruktur"
      ]
    },
    {
      "cell_type": "markdown",
      "id": "6b2847c4",
      "metadata": {
        "id": "6b2847c4"
      },
      "source": [
        "## **4.2 Konsep Data Terstruktur**\n",
        "\n",
        "Data terstruktur adalah data yang memiliki definisi yang jelas dan pola yang telah ditentukan sebelum dikumpulkan.\n",
        "\n",
        "Definisi yang jelas di sini diperlihatkan dengan bentuk  berupa **tabel**. Dengan bentuk tabel, data memiliki format yang terdefinisi, lebih jelas isinya, dan dapat dikenali polanya sehingga lebih mudah untuk dianalisis.\n",
        "\n",
        "Tabel, seperti yang kita ketahui, terdiri atas 3 elemen penting: (1) baris, (2) kolom, dan (3) sel. Dalam data terstruktur, ketiga elemen tersebut mempunyai makna penting:\n",
        "\n",
        "1. baris sebagai **objek**\n",
        "2. kolom sebagai **variabel**\n",
        "3. sel sebagai **nilai**\n",
        "\n",
        "\n",
        "Berikut adalah ilustrasi dari sebuah data terstruktur.\n",
        "\n",
        "indeks   |variabel_1 | variabel_2 | variabel_3\n",
        "---------|-----------|------------|-----------\n",
        "1        |  1_var1   |  1_var2    |  1_var3\n",
        "2        |  2_var1   |  2_var2    |  2_var3\n",
        "3        |  3_var1   |  3_var2    |  3_var3\n",
        "\n",
        "**Indeks** adalah variabel khusus yang menandakan setiap baris sebagai objek yang unik satu sama lain."
      ]
    },
    {
      "cell_type": "markdown",
      "id": "dd7fdd08",
      "metadata": {
        "id": "dd7fdd08"
      },
      "source": [
        "## **4.3 Praktik Pengelolaan Data Terstruktur**\n",
        "\n",
        "Kita akan mempelajari penggunaan `pandas` ini menggunakan kasus-kasus yang sesuai dengan tahap setiap materi."
      ]
    },
    {
      "cell_type": "markdown",
      "id": "902b84e8",
      "metadata": {
        "id": "902b84e8"
      },
      "source": [
        "### **4.3.1 Instalasi Paket `pandas`**"
      ]
    },
    {
      "cell_type": "markdown",
      "id": "cffb8c39",
      "metadata": {
        "id": "cffb8c39"
      },
      "source": [
        "Jika kita menggunakan IDE *(integrated development environment)* luring, seperti Visual Studio Code atau PyCharm, `pandas` perlu di-*install* dengan perintah:\n",
        "\n",
        "```python\n",
        "# Menginstal paket 'pandas'\n",
        "!pip install pandas\n",
        "```\n",
        "\n",
        "Tanda seru (`!`) menandakan perintah dijalankan di sistem operasi alih-alih dalam sel notebook (ipynb) kita"
      ]
    },
    {
      "cell_type": "code",
      "execution_count": null,
      "id": "f7d9cb59",
      "metadata": {
        "colab": {
          "base_uri": "https://localhost:8080/"
        },
        "id": "f7d9cb59",
        "outputId": "7ee63eb1-ae2c-47e0-929b-80426dbf4b5f"
      },
      "outputs": [
        {
          "name": "stdout",
          "output_type": "stream",
          "text": [
            "Requirement already satisfied: pandas in /usr/local/lib/python3.12/dist-packages (2.2.2)\n",
            "Requirement already satisfied: numpy>=1.26.0 in /usr/local/lib/python3.12/dist-packages (from pandas) (2.0.2)\n",
            "Requirement already satisfied: python-dateutil>=2.8.2 in /usr/local/lib/python3.12/dist-packages (from pandas) (2.9.0.post0)\n",
            "Requirement already satisfied: pytz>=2020.1 in /usr/local/lib/python3.12/dist-packages (from pandas) (2025.2)\n",
            "Requirement already satisfied: tzdata>=2022.7 in /usr/local/lib/python3.12/dist-packages (from pandas) (2025.2)\n",
            "Requirement already satisfied: six>=1.5 in /usr/local/lib/python3.12/dist-packages (from python-dateutil>=2.8.2->pandas) (1.17.0)\n"
          ]
        }
      ],
      "source": [
        "# Coba di sini!\n"
      ]
    },
    {
      "cell_type": "markdown",
      "id": "46868584",
      "metadata": {
        "id": "46868584"
      },
      "source": [
        "### **4.3.2 Memuat Paket**"
      ]
    },
    {
      "cell_type": "markdown",
      "id": "b65a5e08",
      "metadata": {
        "id": "b65a5e08"
      },
      "source": [
        "Paket yang telah ter-*install* perlu kita muat dengan perintah `import`\n",
        "\n",
        "```python\n",
        "# Memuat paket 'pandas'\n",
        "import pandas as pd\n",
        "```\n",
        "\n",
        "Perintah '`as pd`' adalah praktik umum dalam pengolahan data dengan `pandas` untuk menyingkat penulisan fungsi yang aslinya ditulis '`pandas`' menjadi '`pd`' saja."
      ]
    },
    {
      "cell_type": "code",
      "execution_count": null,
      "id": "66a85ba2",
      "metadata": {
        "id": "66a85ba2"
      },
      "outputs": [],
      "source": [
        "# Coba di sini!\n"
      ]
    },
    {
      "cell_type": "markdown",
      "id": "d0681955",
      "metadata": {
        "id": "d0681955"
      },
      "source": [
        "### **4.3.3 Membaca Data Terstruktur dari Dictionary**"
      ]
    },
    {
      "cell_type": "markdown",
      "id": "50105514",
      "metadata": {
        "id": "50105514"
      },
      "source": [
        "Data terstruktur dalam `pandas` disebut **DataFrame**.\n",
        "\n",
        "Kita dapat membuat DataFrame dari gabungan penggunaan dictionary dan list seperti berikut.\n",
        "\n",
        "```python\n",
        "# Dictionary data kualitas udara\n",
        "data_kualitas_udara = {\n",
        "    'PM2.5': [35, 40, 28, 50, 45],\n",
        "    'NO2': [20, 25, 18, 30, 22],\n",
        "    'Status': ['Baik', 'Sedang', 'Baik', 'Tidak Sehat', 'Sedang']\n",
        "}\n",
        "```\n",
        "\n",
        "Berdasarkan dictionary tersebut, kita dapat mengetahui jumlah variabel dan observasi kita:\n",
        "* Dari jumlah item dictionary kita, kita memiliki **3 variabel**: `PM2.5`, `NO2`, dan `Status`. `PM2.5` adalah tingkat *particulate matter* 2.5 dalam udara, `NO2` menyatakan jumlah nitrogen dioksida, dan `Status` adalah status udara secara kualitatif.\n",
        "* Kemudian, kita memiliki **5 observasi**, dilihat dari jumlah elemen dalam list-nya."
      ]
    },
    {
      "cell_type": "code",
      "source": [
        "# Coba di sini!\n"
      ],
      "metadata": {
        "id": "Vy2_vpc_ff6D"
      },
      "id": "Vy2_vpc_ff6D",
      "execution_count": null,
      "outputs": []
    },
    {
      "cell_type": "markdown",
      "source": [
        "> **Pengayaan**\n",
        ">\n",
        "> Kita bisa juga menghasilkan dataset  dari library yang disusun secara acak menggunakan paket `numpy` sehingga jumlah objeknya ada 100.\n",
        ">\n",
        "> ```python\n",
        "> import random\n",
        ">\n",
        "> # Menghasilkan list berisi 100 angka acak untuk variabel PM2.5\n",
        "> # dengan terlebih dahulu menghasilkan list angka acak sebanyak 100 buah\n",
        "> numbers = [random.random() for i in range(100)]\n",
        "> PM25v = [int(x*100) for x in numbers]\n",
        ">\n",
        "> # Menghasilkan list berisi 100 angka acak untuk variabel NO2\n",
        "> # dengan terlebih dahulu menghasilkan list angka acak sebanyak 100 buah\n",
        "> numbers = [random.random() for i in range(100)]\n",
        "> NO2v = [int(x*100) for x in numbers]\n",
        ">\n",
        "> # Menghasilkan list berisi 100 elemen yang diambil acak dari list daftar nilai\n",
        "> # unik\n",
        "> Status = ['Baik', 'Sedang', 'Tidak Sehat']\n",
        "> Statusv = random.choices(Status, k=100)\n",
        ">\n",
        "> # Membuat Library-nya\n",
        "> data_kualitas_udara_100 = {\n",
        ">     'PM2.5': PM25v, # [35, 40, 28, 50, 45],\n",
        ">     'NO2': NO2v, #[20, 25, 18, 30, 22],\n",
        ">     'Status': Statusv# ['Baik', 'Sedang', 'Baik', 'Tidak Sehat', 'Sedang']\n",
        "> }\n",
        ">\n",
        "> # Melihat hasilnya\n",
        "> print(data_kualitas_udara_100)\n",
        "> ```"
      ],
      "metadata": {
        "id": "KQoOHUyRfiSu"
      },
      "id": "KQoOHUyRfiSu"
    },
    {
      "cell_type": "code",
      "execution_count": 3,
      "id": "-s7pOWIRyAn3",
      "metadata": {
        "id": "-s7pOWIRyAn3"
      },
      "outputs": [],
      "source": [
        "# Coba pengayaan di sini!\n"
      ]
    },
    {
      "cell_type": "markdown",
      "id": "1dd5eee0",
      "metadata": {
        "id": "1dd5eee0"
      },
      "source": [
        "Dengan demikian, kita akan memiliki DataFrame dengan bentuk kurang lebih seperti ini\n",
        "\n",
        "PM2.5  |   NO2    |   Status\n",
        "-------|----------|-------------\n",
        "35     |    20    |    Baik\n",
        "40     |    25    |   Sedang    \n",
        "28     |    18    |    Baik\n",
        "50     |    30    |  Tidak Sehat\n",
        "45     |    22    |   Sedang"
      ]
    },
    {
      "cell_type": "markdown",
      "id": "e6591869",
      "metadata": {
        "id": "e6591869"
      },
      "source": [
        "Pembuatan DataFrame kita lakukan dengan perintah seperti berikut\n",
        "\n",
        "```python\n",
        "# Membuat DataFrame dari dictionary data_kualitas_udara\n",
        "df_kualitas_udara = pd.DataFrame(data_kualitas_udara)\n",
        "```\n",
        "\n",
        "Untuk mengecek hasilnya, kita dapat menggunakan metode `.head()` setelah nama variabel yang kita masukkan. Metode ini digunakan untuk menampilkan 5 baris pertama dari DataFrame kita.\n",
        "\n",
        "```python\n",
        "# Menampilkan cuplikan dataframe\n",
        "df_kualitas_udara.head()\n",
        "```"
      ]
    },
    {
      "cell_type": "code",
      "execution_count": null,
      "id": "0a8aedfd",
      "metadata": {
        "id": "0a8aedfd"
      },
      "outputs": [],
      "source": [
        "# Coba di sini!\n"
      ]
    },
    {
      "cell_type": "markdown",
      "id": "c9c78587",
      "metadata": {
        "id": "c9c78587"
      },
      "source": [
        "Buka jendela \"Variable\" sekarang dan perhatikan apa yang tertulis pada bagian Type variabel `df_kualitas_udara` yang baru kita buat."
      ]
    },
    {
      "cell_type": "markdown",
      "id": "15cc033c",
      "metadata": {
        "id": "15cc033c"
      },
      "source": [
        "### **4.3.4 Menambah Indeks**\n",
        "\n",
        "Kita sudah memiliki DataFrame yang berisi 3 variabel kualitas udara di lima objek. Namun demikian, kita belum mengetahui apa yang menjadi objek dari DataFrame kita.\n",
        "\n",
        "Untuk memberi konteks objek dalam DataFrame kita, kita dapat menggunakan **indeks**. Indeks adalah penanda dari setiap objek yang ada dalam DataFrame kita sehingga masing-masing objeknya dapat diidentifikasi secara unik.\n",
        "\n",
        "Misalnya, jika objek kita adalah penduduk, maka bisa jadi indeks kita adalah Nomor Induk Kependudukannya. Jika objek kita berupa wilayah administratif, kita bisa menggunakan Kode Kemendagri sebagai indeksnya."
      ]
    },
    {
      "cell_type": "markdown",
      "id": "ae73e4d0",
      "metadata": {
        "id": "ae73e4d0"
      },
      "source": [
        "Untuk membuat indeks, kita membuat list berisi nama-nama indeks tersebut yang menjadi identitas tiap baris dalam DataFrame kita terlebih dahulu.\n",
        "\n",
        "```python\n",
        "# list indeks data\n",
        "kelurahan = ['Kelurahan A', 'Kelurahan B', 'Kelurahan C', 'Kelurahan D', 'Kelurahan E']\n",
        "```\n",
        "\n",
        "Dalam kode di atas, kita menggunakan **nama kelurahan** sebagai satuan observasi kita yang kita simpan dalam variabel bernama `kelurahan`."
      ]
    },
    {
      "cell_type": "markdown",
      "id": "fe64f4f5",
      "metadata": {
        "id": "fe64f4f5"
      },
      "source": [
        "Kemudian, kita mengatur agar list `kelurahan` ini menjadi indeks dalam DataFrame yang sudah kita buat dengan menambahkan atribut `index=`\n",
        "\n",
        "```python\n",
        "# Mengatur indeks\n",
        "df_kualitas_udara = pd.DataFrame(data_kualitas_udara, index=kelurahan)\n",
        "\n",
        "# Menampilkan cuplikan DataFrame kita\n",
        "df_kualitas_udara.head()\n",
        "```\n",
        "\n",
        "* Kode tersebut memerintahkan Python menambahkan `kelurahan` sebagai indeks untuk DataFrame `df_kualitas_udara` yang sudah ada sebelumnya.\n",
        "* Kemudian, seperti biasa, kita bisa mengecek hasil pembuatan indeks kita dengan `df_kualitas_udara.head()`"
      ]
    },
    {
      "cell_type": "code",
      "execution_count": null,
      "id": "77df2f6d",
      "metadata": {
        "id": "77df2f6d"
      },
      "outputs": [],
      "source": [
        "# Coba di sini!\n"
      ]
    },
    {
      "cell_type": "markdown",
      "id": "80da286e",
      "metadata": {
        "id": "80da286e"
      },
      "source": [
        "Perhatikan kolom di paling kiri DataFrame. Yang semula berupa angka dari 0‒4, indeksnya sekarang berubah menjadi nama-nama kelurahan."
      ]
    },
    {
      "cell_type": "markdown",
      "id": "c8c0d051",
      "metadata": {
        "id": "c8c0d051"
      },
      "source": [
        "### **4.3.5 Mengakses Data dengan Indeks**\n",
        "\n",
        "Setelah kita menetapkan nama-nama kelurahan sebagai indeks dalam DataFrame, kita dapat mengakses informasi variabel-variabel kualitas udara untuk baris yang kita inginkan. Caranya adalah dengan menggunakan fungsi `print()` dan menambahkan metode bernama `.loc()` yang diisi dengan nama indeks barisnya, yakni nama kelurahan.\n",
        "\n",
        "```python\n",
        "# Mengakses baris DataFrame dengan indeks menggunakan .loc()\n",
        "print(df_kualitas_udara.loc('Kelurahan A'))\n",
        "```\n",
        "\n",
        "Baris tersebut memerintahkan Python untuk menampilkan variabel-variabel untuk baris Kelurahan A."
      ]
    },
    {
      "cell_type": "code",
      "execution_count": null,
      "id": "46d3d4d6",
      "metadata": {
        "id": "46d3d4d6"
      },
      "outputs": [],
      "source": [
        "# Coba di sini!\n"
      ]
    },
    {
      "cell_type": "markdown",
      "id": "0b8e991f",
      "metadata": {
        "id": "0b8e991f"
      },
      "source": [
        "Selain dengan indeks dari data kita, kita dapat menggunakan urutan dari `0` hingga `jumlah baris-1` menggunakan metode `.iloc()`.\n",
        "\n",
        "```python\n",
        "# Mengakses baris DataFrame kedua\n",
        "print(df_kualitas_udara.iloc(1))\n",
        "```"
      ]
    },
    {
      "cell_type": "markdown",
      "id": "e30fe855",
      "metadata": {
        "id": "e30fe855"
      },
      "source": [
        "### **4.3.6 Mengorganisasi DataFrame: Mengurutkan Data *(Sorting)***\n",
        "\n",
        "Pengurutan data berdasarkan suatu kolom/variabel menggunakan metode `.sort_values(by=)` dan mengisikan nama variabelnya dalam atribut `by=` tersebut.\n",
        "\n",
        "```python\n",
        "# Mengurutkan data berdasarkan kolom 'PM2.5'\n",
        "df_kualitas_udara.sort_values(by='PM2.5')\n",
        "```\n",
        "\n",
        "Jika kita ingin menyimpan hasil pengurutan tersebut, kita tinggal menyimpannya sebagai variabel baru.\n",
        "\n",
        "```python\n",
        "# Menyimpan hasil pengurutan menjadi DataFrame baru\n",
        "df_kualitasUdara_sortPM = df_kualitas_udara.sort_values(by='PM2.5')\n",
        "```"
      ]
    },
    {
      "cell_type": "code",
      "execution_count": null,
      "id": "3722ed3a",
      "metadata": {
        "id": "3722ed3a"
      },
      "outputs": [],
      "source": [
        "# Coba di sini!"
      ]
    },
    {
      "cell_type": "markdown",
      "id": "c10c0470",
      "metadata": {
        "id": "c10c0470"
      },
      "source": [
        "### **4.3.7 Mengorganisasi DataFrame: Menyaring Data *(Filtering)***\n",
        "\n",
        "Penyaringan DataFrame secara umum dilakukan dengan menggunakan kurung siku `[]` setelah nama DataFrame dan membuat pernyataan penyaringan menggunakan operator logika seperti `>`, `<`, `>=`, `<=`, `==`, atau `!=`.\n",
        "\n",
        "**Pelajari contoh-contoh baris kode berikut untuk memahami penggunaan sintaks masing-masing kondisi**\n",
        "\n",
        "1. Baris kode berikut menyaring DataFrame `df_kualitas_udara` yang memiliki nilai `PM2.5` lebih dari 40\n",
        "\n",
        "    ```python\n",
        "    # Menyaring kelurahan yang memiliki PM2.5 di atas 20\n",
        "    df_kualitas_udara[df_kualitas_udara['PM2.5'] > 40]\n",
        "    ```\n",
        "\n",
        "2. Baris kode berikut menyaring DataFrame `df_kualitas_udara` yang nilai `Status` kualitas udaranya \"Baik\"\n",
        "\n",
        "    ```python\n",
        "    # Menyaring DataFrame yang berstatus \"Baik\"\n",
        "    df_kualitas_udara[df_kualitas_udara['Status'] == \"Baik\"]\n",
        "    ```\n",
        "\n",
        "3. Baris kode berikut menyaring DataFrame `df_kualitas_udara` yang nilai `Status` kualitas udaranya bukan \"Baik\"\n",
        "\n",
        "    ```python\n",
        "    # Menyaring DataFrame yang berstatus \"Baik\"\n",
        "    df_kualitas_udara[df_kualitas_udara['Status'] != \"Baik\"]\n",
        "    ```\n",
        "\n",
        "4. Baris kode berikut menyaring DataFrame dengan **dua kondisi**. Untuk menggabungkan dua kondisi tersebut, kita menggunakan operator logika lain yakni AND dan OR, yang disimbolkan dengan `&` dan `|`.\n",
        "\n",
        "    Operator `&` menghasilkan saringan yang **kedua pernyataan bernilai benar**, sedangkan `|` menghasilkan saringan **yang salah satunya saja** bernilai benar.\n",
        "\n",
        "    **Perhatikan perbedaan kedua baris berikut**\n",
        "\n",
        "    ```python\n",
        "    # Penggunaan operator &\n",
        "    df_kualitas_udara[(df_kualitas_udara['PM2.5'] >= 30) & (df_kualitas_udara['PM2.5'] <= 50)]\n",
        "\n",
        "    # Penggunaan operator |\n",
        "    df_kualitas_udara[(df_kualitas_udara['PM2.5'] >= 30) | (df_kualitas_udara['PM2.5'] <= 50)]\n",
        "    ```"
      ]
    },
    {
      "cell_type": "code",
      "execution_count": null,
      "id": "d21abe3e",
      "metadata": {
        "id": "d21abe3e"
      },
      "outputs": [],
      "source": [
        "# Coba di sini!\n",
        "\n",
        "\n",
        "# a. Terkait dengan operator & dan |, apa yang berbeda jika kita mengganti & dengan | pada baris kode kedua?\n",
        "# b. Mengapa perbedaan itu bisa terjadi?\n",
        "# Jawab pertanyaan-pertanyaan tersebut di bawah ini dengan fungsi print().\n"
      ]
    },
    {
      "cell_type": "markdown",
      "id": "3e80e968",
      "metadata": {
        "id": "3e80e968"
      },
      "source": [
        "### **4.3.8 Analisis Statistik Deskriptif**\n",
        "\n",
        " Untuk melakukan analisis statistik deskriptif dari DataFrame, kita bisa menggunakan paket `numpy`\n",
        "\n",
        "```python\n",
        "# Memuat paket numpy\n",
        "import numpy as np\n",
        "```"
      ]
    },
    {
      "cell_type": "code",
      "execution_count": null,
      "id": "65bd8d69",
      "metadata": {
        "id": "65bd8d69"
      },
      "outputs": [],
      "source": [
        "# Coba di sini!\n"
      ]
    },
    {
      "cell_type": "markdown",
      "id": "7532c9b7",
      "metadata": {
        "id": "7532c9b7"
      },
      "source": [
        "Kita akan menggunakan DataFrame fiktif yang berisi data kecamatan di sebuah kota, dengan variabel kuantitatif seperti **populasi**, **jumlah_fasilitas_umum**, dan **jumlah_taman**, serta variabel kategorikal **tingkat_kepadatan**.\n",
        "\n",
        "```python\n",
        "# Menyusun data fiktif\n",
        "data_kecamatan = {\n",
        "    'kecamatan': ['Sukarame', 'Kedaton', 'Panjang', 'Tanjung Senang', 'Teluk Betung'],\n",
        "    'populasi': [55000, 48000, 62000, 35000, 78000],\n",
        "    'jumlah_fasilitas_umum': [15, 12, 18, 10, 25],\n",
        "    'jumlah_taman': [3, 2, 4, 1, 5],\n",
        "    'tingkat_kepadatan': ['Sedang', 'Sedang', 'Padat', 'Rendah', 'Sangat Padat']\n",
        "}\n",
        "\n",
        "df_kecamatan = pd.DataFrame(data_kecamatan)\n",
        "```"
      ]
    },
    {
      "cell_type": "code",
      "execution_count": null,
      "id": "2fb0500c",
      "metadata": {
        "id": "2fb0500c"
      },
      "outputs": [],
      "source": [
        "# Coba di sini!\n"
      ]
    },
    {
      "cell_type": "markdown",
      "id": "6c7fd268",
      "metadata": {
        "id": "6c7fd268"
      },
      "source": [
        "#### **4.3.8.1 Menggunakan Metode `.describe()`**\n",
        "\n",
        "Metode `.describe()` adalah cara termudah dan tercepat untuk mendapatkan statistik deskriptif dasar untuk semua kolom numerik.\n",
        "\n",
        "```python\n",
        "print(\"\\nStatistik Deskriptif dari Kolom Numerik:\")\n",
        "print(df_kecamatan.describe())\n",
        "```"
      ]
    },
    {
      "cell_type": "code",
      "execution_count": null,
      "id": "1ee122b1",
      "metadata": {
        "id": "1ee122b1"
      },
      "outputs": [],
      "source": [
        "# Coba di sini!\n"
      ]
    },
    {
      "cell_type": "markdown",
      "id": "ac06fc00",
      "metadata": {
        "id": "ac06fc00"
      },
      "source": [
        "#### **4.3.8.2 Menghitung Secara Terpisah**\n",
        "\n",
        "Metode `.describe()` hanya sebatas menampilkan statistik deskriptif saja. Apabila kita ingin mengolahnya, kita perlu menghitung secara terpisah. Di sinilah paket `numpy` berperan.\n",
        "\n",
        "* **Menghitung Rata-rata**\n",
        "\n",
        "    ```python\n",
        "    rata_rata_fasum = df_kecamatan['jumlah_fasilitas_umum'].mean()\n",
        "    print(f\"\\nRata-rata Jumlah Fasilitas Umum: {rata_rata_fasum:.2f}\")\n",
        "    ```\n",
        "\n",
        "    Penghitungan rata-rata dilakukan dengan metode `.mean()` dari kolom '`jumlah_fasilitas_umum`' yang diakses dengan `df_kecamatan['jumlah_fasilitas_umum']`.\n",
        "\n",
        "    Penggunaan \"`f`\" dalam fungsi `print` berguna untuk menyatukan hasil pengolahan variabel dalam string. Sedangkan `:.2f` setelah nama variabel `rata_rata_fasum` dalam string tersebut berfungsi mengatur jumlah desimal yang ditampilkan.\n",
        "\n",
        "* **Menghitung Median**\n",
        "\n",
        "    ```python\n",
        "    median_populasi = df_kecamatan['populasi'].median()\n",
        "    print(f\"\\nMedian Jumlah Penduduk: {median_populasi:.0f}\")\n",
        "    ```\n",
        "\n",
        "* **Menghitung Simpangan Baku**\n",
        "\n",
        "    ```python\n",
        "    std_populasi = df['populasi'].std()\n",
        "    print(f\"Standar Deviasi Populasi: {std_populasi:.2f}\")\n",
        "    ```"
      ]
    },
    {
      "cell_type": "code",
      "execution_count": null,
      "id": "cc1ba7ff",
      "metadata": {
        "id": "cc1ba7ff"
      },
      "outputs": [],
      "source": [
        "# Coba di sini!\n"
      ]
    },
    {
      "cell_type": "markdown",
      "id": "d0047980",
      "metadata": {
        "id": "d0047980"
      },
      "source": [
        "#### **4.3.8.3 Mengolah Statistik Deskriptif Variabel Kategoris**\n",
        "\n",
        "Untuk data kategorikal, kita bisa menghitung persentase atau proporsi dari setiap kategori. Gunakan `.value_counts()` dengan parameter `normalize=True` untuk mendapatkan proporsi, lalu kalikan dengan 100.\n",
        "\n",
        "```python\n",
        "# Menghitung proporsi dan persentase dari 'tingkat_kepadatan'\n",
        "proporsi_kepadatan = df['tingkat_kepadatan'].value_counts(normalize=True)\n",
        "persentase_kepadatan = proporsi_kepadatan * 100\n",
        "\n",
        "print(\"\\nProporsi Tingkat Kepadatan:\")\n",
        "print(proporsi_kepadatan)\n",
        "print(\"\\nPersentase Tingkat Kepadatan:\")\n",
        "print(persentase_kepadatan)\n",
        "```"
      ]
    },
    {
      "cell_type": "code",
      "execution_count": null,
      "id": "588e02cf",
      "metadata": {
        "id": "588e02cf"
      },
      "outputs": [],
      "source": [
        "# Coba di sini!\n"
      ]
    },
    {
      "cell_type": "markdown",
      "id": "ab687f66",
      "metadata": {
        "id": "ab687f66"
      },
      "source": [
        "### **4.4 Praktik Umum: Membaca Data dari File Spreadsheet**\n",
        "\n",
        "Umumnya, data yang kita gunakan dalam analisis disimpan dalam file spreadsheet, seperti file CSV atau Excel. Pandas menyediakan fungsi yang sangat mudah digunakan untuk membaca file-file tersebut dan mengubahnya menjadi DataFrame.\n",
        "\n",
        "1. Gunakan fungsi `pd.read_csv()` untuk membaca file CSV yang berisi data kualitas udara. Untuk mengatur delimiter yang digunakan dalam file CSV, gunakan parameter `delimiter`. Misalnya, jika file CSV menggunakan titik koma (`;`) sebagai delimiter, Anda dapat menambahkan `delimiter=';'` dalam fungsi `pd.read_csv()`.\n",
        "2. Gunakan fungsi `pd.read_excel()` untuk membaca file Excel yang berisi data kualitas udara.\n",
        "\n",
        "```python\n",
        "# Membaca data csv\n",
        "data_anggaran = pd.read_csv(\"data/contoh_file_csv.csv\", delim=\";\")\n",
        "\n",
        "# Menampilkan 5 data teratas\n",
        "data_anggaran.head()\n",
        "```\n",
        "\n",
        "Anda harus memastikan bahwa file CSV atau Excel yang ingin Anda baca berada di direktori yang sama dengan notebook Jupyter Anda, atau Anda dapat memberikan path lengkap ke file tersebut.\n",
        "\n",
        "```python\n",
        "# Memuat data csv dari folder lain\n",
        "data_anggaran = pd.read_csv('C:/Users/UserAnda/Downloads/contoh_file_csv.csv', delimiter=';')\n",
        "```"
      ]
    },
    {
      "cell_type": "code",
      "execution_count": null,
      "id": "13920e85",
      "metadata": {
        "colab": {
          "base_uri": "https://localhost:8080/",
          "height": 211
        },
        "id": "13920e85",
        "outputId": "eed1eb4a-3bad-4ff1-b78e-1bb464f44f1a"
      },
      "outputs": [
        {
          "ename": "NameError",
          "evalue": "name 'pd' is not defined",
          "output_type": "error",
          "traceback": [
            "\u001b[0;31m---------------------------------------------------------------------------\u001b[0m",
            "\u001b[0;31mNameError\u001b[0m                                 Traceback (most recent call last)",
            "\u001b[0;32m/tmp/ipython-input-4289497530.py\u001b[0m in \u001b[0;36m<cell line: 0>\u001b[0;34m()\u001b[0m\n\u001b[1;32m      1\u001b[0m \u001b[0;31m# Coba di sini!\u001b[0m\u001b[0;34m\u001b[0m\u001b[0;34m\u001b[0m\u001b[0m\n\u001b[1;32m      2\u001b[0m \u001b[0;31m# Membaca data csv\u001b[0m\u001b[0;34m\u001b[0m\u001b[0;34m\u001b[0m\u001b[0m\n\u001b[0;32m----> 3\u001b[0;31m \u001b[0mdata_anggaran\u001b[0m \u001b[0;34m=\u001b[0m \u001b[0mpd\u001b[0m\u001b[0;34m.\u001b[0m\u001b[0mread_csv\u001b[0m\u001b[0;34m(\u001b[0m\u001b[0;34m\"data/contoh_file_csv.csv\"\u001b[0m\u001b[0;34m,\u001b[0m \u001b[0mdelim\u001b[0m\u001b[0;34m=\u001b[0m\u001b[0;34m\";\"\u001b[0m\u001b[0;34m)\u001b[0m\u001b[0;34m\u001b[0m\u001b[0;34m\u001b[0m\u001b[0m\n\u001b[0m\u001b[1;32m      4\u001b[0m \u001b[0;34m\u001b[0m\u001b[0m\n\u001b[1;32m      5\u001b[0m \u001b[0;31m# Menampilkan 5 data teratas\u001b[0m\u001b[0;34m\u001b[0m\u001b[0;34m\u001b[0m\u001b[0m\n",
            "\u001b[0;31mNameError\u001b[0m: name 'pd' is not defined"
          ]
        }
      ],
      "source": [
        "# Coba di sini!\n",
        "# Membaca data csv\n",
        "data_anggaran = pd.read_csv(\"data/contoh_file_csv.csv\", delim=\";\")\n",
        "\n",
        "# Menampilkan 5 data teratas\n",
        "data_anggaran.head()\n"
      ]
    },
    {
      "cell_type": "markdown",
      "id": "da955db0",
      "metadata": {
        "id": "da955db0"
      },
      "source": [
        "----------------------\n",
        "\n",
        "\n",
        "# **Selesai. Anda hebat!**"
      ]
    }
  ],
  "metadata": {
    "colab": {
      "provenance": []
    },
    "kernelspec": {
      "display_name": "venv",
      "language": "python",
      "name": "python3"
    },
    "language_info": {
      "codemirror_mode": {
        "name": "ipython",
        "version": 3
      },
      "file_extension": ".py",
      "mimetype": "text/x-python",
      "name": "python",
      "nbconvert_exporter": "python",
      "pygments_lexer": "ipython3",
      "version": "3.12.10"
    }
  },
  "nbformat": 4,
  "nbformat_minor": 5
}